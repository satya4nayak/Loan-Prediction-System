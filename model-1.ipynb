{
 "cells": [
  {
   "cell_type": "code",
   "execution_count": null,
   "metadata": {},
   "outputs": [],
   "source": [
    "\n",
    "import pandas as pd\n",
    "import xgboost as xgb\n",
    "from sklearn.model_selection import train_test_split\n",
    "from sklearn.metrics import mean_squared_error, mean_absolute_error\n"
   ]
  },
  {
   "cell_type": "code",
   "execution_count": null,
   "metadata": {},
   "outputs": [],
   "source": [
    "%pip install openpyxl"
   ]
  },
  {
   "cell_type": "code",
   "execution_count": 17,
   "metadata": {},
   "outputs": [
    {
     "name": "stdout",
     "output_type": "stream",
     "text": [
      "Model training completed and saved as 'loan_predictor_model.pkl'.\n",
      "Predictions saved to 'loan_predictions.xlsx'.\n"
     ]
    }
   ],
   "source": [
    "file_path = \"./Training_data.xlsx\"\n",
    "dataset = pd.read_excel(file_path)\n",
    "dataset.head()\n",
    "features = [\n",
    "    'INCOME', 'SAVINGS', 'DEBT', 'R_SAVINGS_INCOME',\n",
    "    'R_DEBT_INCOME', 'R_DEBT_SAVINGS'\n",
    "]\n",
    "\n",
    "X = dataset[features]\n",
    "\n",
    "X_train, X_test = train_test_split(X, test_size=0.2, random_state=42)\n",
    "\n",
    "# Train the XGBoost Model\n",
    "model = xgb.XGBRegressor(objective='reg:squarederror', n_estimators=100, random_state=42)\n",
    "model.fit(X_train, X_train.mean(axis=1))  # Train model without a target column\n",
    "\n",
    "# Save the trained model\n",
    "joblib.dump(model, 'loan_predictor_model.pkl')\n",
    "print(\"Model training completed and saved as 'loan_predictor_model.pkl'.\")\n",
    "\n",
    "# Generate predictions\n",
    "predictions = model.predict(X_test)\n",
    "\n",
    "# Save predictions to a new file\n",
    "output_df = X_test.copy()\n",
    "output_df[\"PREDICTED_SAFE_LOAN\"] = predictions\n",
    "\n",
    "output_file = \"loan_predictions.xlsx\"\n",
    "output_df.to_excel(output_file, index=False)\n",
    "\n",
    "print(f\"Predictions saved to '{output_file}'.\")\n"
   ]
  },
  {
   "cell_type": "code",
   "execution_count": null,
   "metadata": {},
   "outputs": [],
   "source": [
    "X_train, X_test, y_train, y_test = train_test_split(X, y, test_size=0.2, random_state=42)"
   ]
  },
  {
   "cell_type": "code",
   "execution_count": 2,
   "metadata": {},
   "outputs": [],
   "source": [
    "model = joblib.load(\"loan_predictor_model.pkl\")"
   ]
  },
  {
   "cell_type": "code",
   "execution_count": null,
   "metadata": {},
   "outputs": [],
   "source": [
    "def predict_safe_loan (income,savings,debt,loan_duration,change_Income):\n",
    "    if change_Income == True:\n",
    "        new_Income = float(input(\"Enter new income: \"))\n",
    "        change_in_year = int(input(\"Enter months after which income changes: \"))/12\n",
    "        adjusted_income = ((income * (loan_duration - change_in_year)) + (change_in_year * new_Income)) / loan_duration\n",
    "        ratio_savings_income = savings / adjusted_income\n",
    "        ratio_debt_income = debt / adjusted_income\n",
    "        ratio_debt_savings = debt / savings\n",
    "    input_data = pd.DataFrame([{\n",
    "        \"INCOME\": adjusted_income,\n",
    "        \"SAVINGS\": savings,\n",
    "        \"DEBT\": debt,\n",
    "        \"RATIO_SAVINGS_INCOME\": ratio_savings_income,\n",
    "        \"RATIO_DEBT_INCOME\": ratio_debt_income,\n",
    "        \"RATIO_DEBT_SAVINGS\": ratio_debt_savings\n",
    "    }])\n",
    "\n",
    "    predict_loan = model.predict(input_data)[0]\n",
    "\n",
    "    return f\"Predicted Safe Loan Amount: ₹{round(predict_loan,2)}\"\n",
    "\n",
    "income = float(input(\"Enter income: \"))\n",
    "savings = float(input(\"Enter savings: \"))\n",
    "debt = float(input(\"Enter debt: \"))\n",
    "loan_duration = int(input(\"Enter loan duration in months: \"))\n",
    "change_Income = bool(input(\"Is there a change in income between loan duration? (True/False): \"))\n",
    "\n",
    "predict_safe_loan(income,savings,debt,loan_duration,change_Income)"
   ]
  },
  {
   "cell_type": "code",
   "execution_count": 12,
   "metadata": {},
   "outputs": [
    {
     "name": "stdout",
     "output_type": "stream",
     "text": [
      "income, savings, debt, loan_duration_months\n",
      "100000.0 100000.0 250000.0 24\n",
      "Predicted Safe Loan Amount: ₹40000.0\n"
     ]
    }
   ],
   "source": [
    "model = joblib.load(\"loan_predictor_model.pkl\")\n",
    "\n",
    "def predict_safe_loan(income, savings, debt, loan_duration_months, change_income):\n",
    "    loan_duration_years = loan_duration_months / 12  \n",
    "\n",
    "    adjusted_income = income\n",
    "    ratio_savings_income = savings / adjusted_income if adjusted_income > 0 else 0\n",
    "    ratio_debt_income = debt / adjusted_income if adjusted_income > 0 else 0\n",
    "    ratio_debt_savings = debt / savings if savings > 0 else 0\n",
    "\n",
    "    if change_income:\n",
    "        new_income = float(input(\"Enter new annual income: \"))\n",
    "        change_after_months = int(input(\"Enter months after which income changes: \"))\n",
    "        change_after_years = change_after_months / 12\n",
    "\n",
    "        adjusted_income = ((income * (loan_duration_years - change_after_years)) + \n",
    "                           (new_income * change_after_years)) / loan_duration_years\n",
    "\n",
    "        ratio_savings_income = savings / adjusted_income if adjusted_income > 0 else 0\n",
    "        ratio_debt_income = debt / adjusted_income if adjusted_income > 0 else 0\n",
    "        ratio_debt_savings = debt / savings if savings > 0 else 0\n",
    "\n",
    "    max_debt_to_income = 3.5  \n",
    "    max_debt_to_savings = 3\n",
    "\n",
    "    if ratio_debt_income > max_debt_to_income or ratio_debt_savings > max_debt_to_savings:\n",
    "        required_repayment = max(debt - (income * 3), 0)\n",
    "        return f\"❌ Not eligible for loan. Must repay at least ₹{round(required_repayment, 2)} first.\"\n",
    "\n",
    "    input_data = pd.DataFrame([{\n",
    "        \"INCOME\": adjusted_income,\n",
    "        \"SAVINGS\": savings,\n",
    "        \"DEBT\": debt,\n",
    "        \"R_SAVINGS_INCOME\": ratio_savings_income,\n",
    "        \"R_DEBT_INCOME\": ratio_debt_income,\n",
    "        \"R_DEBT_SAVINGS\": ratio_debt_savings\n",
    "    }])\n",
    "\n",
    "\n",
    "    predicted_loan = model.predict(input_data)[0]\n",
    "\n",
    "    max_safe_loan = min(income*0.4 , savings *0.5)\n",
    "    final_loan = min(predicted_loan, max_safe_loan)\n",
    "\n",
    "    return f\"Predicted Safe Loan Amount: ₹{round(final_loan, 2)}\"\n",
    "\n",
    "income = float(input(\"Enter current annual income: \"))\n",
    "savings = float(input(\"Enter total savings: \"))\n",
    "debt = float(input(\"Enter total debt: \"))\n",
    "loan_duration_months = int(input(\"Enter loan duration in months: \"))\n",
    "\n",
    "change_income = input(\"Will your income change during the loan duration? (yes/no): \").strip().lower() in ['yes', 'true', '1']\n",
    "\n",
    "result = predict_safe_loan(income, savings, debt, loan_duration_months, change_income)\n",
    "print(\"income, savings, debt, loan_duration_months\")\n",
    "print(income, savings, debt, loan_duration_months,)\n",
    "print(result)"
   ]
  }
 ],
 "metadata": {
  "kernelspec": {
   "display_name": "Python 3",
   "language": "python",
   "name": "python3"
  },
  "language_info": {
   "codemirror_mode": {
    "name": "ipython",
    "version": 3
   },
   "file_extension": ".py",
   "mimetype": "text/x-python",
   "name": "python",
   "nbconvert_exporter": "python",
   "pygments_lexer": "ipython3",
   "version": "3.11.9"
  }
 },
 "nbformat": 4,
 "nbformat_minor": 2
}
